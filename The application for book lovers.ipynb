{
 "cells": [
  {
   "cell_type": "markdown",
   "metadata": {},
   "source": [
    "# <center><font color='#1a75ff'>An application for book lovers</font></center>"
   ]
  },
  {
   "cell_type": "markdown",
   "metadata": {},
   "source": [
    "<center><img src=\"Books.jpg\"></center>"
   ]
  },
  {
   "cell_type": "markdown",
   "metadata": {},
   "source": [
    "## Contents  <a class=\"anchor\" id=\"contents\"></a>\n",
    "\n",
    "* [Project description](#Project_description)\n",
    "* [Project stages](#Project_stages)\n",
    "    * [1. Data preprocessing](#Part_1)\n",
    "        * [Conclusion](#part1Conclusion)\n",
    "    * [2. Exploratory data analysis](#Part_2)\n",
    "        * [Conclusion](#part2Conclusion)\n",
    "* [General Conclusion](#General_Conclusion) "
   ]
  },
  {
   "cell_type": "markdown",
   "metadata": {},
   "source": [
    "## Project description <a class=\"anchor\" id=\"Project_description\"></a>\n",
    "\n",
    "One of the startups is developing a new app for book lovers.\n",
    "They provided a database with information that will be used to generate a value proposition for a new product. It contains data on books, publishers, authors, and customer ratings and reviews of books."
   ]
  },
  {
   "cell_type": "markdown",
   "metadata": {},
   "source": [
    "## Project stages <a class=\"anchor\" id=\"Project_stages\"></a>"
   ]
  },
  {
   "cell_type": "markdown",
   "metadata": {},
   "source": [
    "## 1. Data preprocessing <a class=\"anchor\" id=\"Part_1\"></a>\n",
    "The first step here is looking at the content of the database tables."
   ]
  },
  {
   "cell_type": "markdown",
   "metadata": {},
   "source": [
    "Import the libraries."
   ]
  },
  {
   "cell_type": "code",
   "execution_count": 1,
   "metadata": {},
   "outputs": [],
   "source": [
    "#import libraries\n",
    "#packages for data manipulations\n",
    "import pandas as pd\n",
    "#an open-source SQL toolkit and object-relational mapper\n",
    "from sqlalchemy import create_engine\n",
    "#import packages for data plotting\n",
    "import matplotlib.pyplot as plt\n",
    "import seaborn as sns"
   ]
  },
  {
   "cell_type": "markdown",
   "metadata": {},
   "source": [
    "The database contains 5 tables with data for analysis:\n",
    "\n",
    "*books* - contains data on books<br>\n",
    "*authors* - contains data on authors<br>\n",
    "*publishers* - contains data on publishers<br>\n",
    "*ratings* - contains data on user ratings<br>\n",
    "*reviews* - contains data on customer reviews<br>\n",
    "\n",
    "The tables are in a PostgreSQL database with the following structure:"
   ]
  },
  {
   "cell_type": "markdown",
   "metadata": {},
   "source": [
    "<img src=\"db_schema.png\" width=\"700\" height=\"400\">"
   ]
  },
  {
   "cell_type": "markdown",
   "metadata": {},
   "source": [
    "Defining parameters for connecting to the database on PostgreSQL."
   ]
  },
  {
   "cell_type": "code",
   "execution_count": 2,
   "metadata": {},
   "outputs": [],
   "source": [
    "#parameters\n",
    "db_config = {'user': 'praktikum_student',             #user name\n",
    "             'pwd': 'Sdf4$2;d-d30pp',                 #password\n",
    "             'host': 'rc1b-wcoijxj3yxfsf3fs.mdb.yandexcloud.net',\n",
    "             'port': 6432,                            #connection port\n",
    "             'db': 'data-analyst-final-project-db'}   #name of the database\n",
    "#database connection string\n",
    "connection_string = 'postgresql://{}:{}@{}:{}/{}'.format(db_config['user'],\n",
    "                                                         db_config['pwd'],\n",
    "                                                         db_config['host'],\n",
    "                                                         db_config['port'],\n",
    "                                                         db_config['db'])\n",
    "#connecting to the database\n",
    "engine = create_engine(connection_string, connect_args={'sslmode':'require'})"
   ]
  },
  {
   "cell_type": "markdown",
   "metadata": {},
   "source": [
    "Let's load the data and do an initial inspection."
   ]
  },
  {
   "cell_type": "code",
   "execution_count": 3,
   "metadata": {},
   "outputs": [
    {
     "data": {
      "text/html": [
       "<div>\n",
       "<style scoped>\n",
       "    .dataframe tbody tr th:only-of-type {\n",
       "        vertical-align: middle;\n",
       "    }\n",
       "\n",
       "    .dataframe tbody tr th {\n",
       "        vertical-align: top;\n",
       "    }\n",
       "\n",
       "    .dataframe thead th {\n",
       "        text-align: right;\n",
       "    }\n",
       "</style>\n",
       "<table border=\"1\" class=\"dataframe\">\n",
       "  <thead>\n",
       "    <tr style=\"text-align: right;\">\n",
       "      <th></th>\n",
       "      <th>book_id</th>\n",
       "      <th>author_id</th>\n",
       "      <th>title</th>\n",
       "      <th>num_pages</th>\n",
       "      <th>publication_date</th>\n",
       "      <th>publisher_id</th>\n",
       "    </tr>\n",
       "  </thead>\n",
       "  <tbody>\n",
       "    <tr>\n",
       "      <th>0</th>\n",
       "      <td>1</td>\n",
       "      <td>546</td>\n",
       "      <td>'Salem's Lot</td>\n",
       "      <td>594</td>\n",
       "      <td>2005-11-01</td>\n",
       "      <td>93</td>\n",
       "    </tr>\n",
       "    <tr>\n",
       "      <th>1</th>\n",
       "      <td>2</td>\n",
       "      <td>465</td>\n",
       "      <td>1 000 Places to See Before You Die</td>\n",
       "      <td>992</td>\n",
       "      <td>2003-05-22</td>\n",
       "      <td>336</td>\n",
       "    </tr>\n",
       "    <tr>\n",
       "      <th>2</th>\n",
       "      <td>3</td>\n",
       "      <td>407</td>\n",
       "      <td>13 Little Blue Envelopes (Little Blue Envelope...</td>\n",
       "      <td>322</td>\n",
       "      <td>2010-12-21</td>\n",
       "      <td>135</td>\n",
       "    </tr>\n",
       "    <tr>\n",
       "      <th>3</th>\n",
       "      <td>4</td>\n",
       "      <td>82</td>\n",
       "      <td>1491: New Revelations of the Americas Before C...</td>\n",
       "      <td>541</td>\n",
       "      <td>2006-10-10</td>\n",
       "      <td>309</td>\n",
       "    </tr>\n",
       "    <tr>\n",
       "      <th>4</th>\n",
       "      <td>5</td>\n",
       "      <td>125</td>\n",
       "      <td>1776</td>\n",
       "      <td>386</td>\n",
       "      <td>2006-07-04</td>\n",
       "      <td>268</td>\n",
       "    </tr>\n",
       "  </tbody>\n",
       "</table>\n",
       "</div>"
      ],
      "text/plain": [
       "   book_id  author_id                                              title  \\\n",
       "0        1        546                                       'Salem's Lot   \n",
       "1        2        465                 1 000 Places to See Before You Die   \n",
       "2        3        407  13 Little Blue Envelopes (Little Blue Envelope...   \n",
       "3        4         82  1491: New Revelations of the Americas Before C...   \n",
       "4        5        125                                               1776   \n",
       "\n",
       "   num_pages publication_date  publisher_id  \n",
       "0        594       2005-11-01            93  \n",
       "1        992       2003-05-22           336  \n",
       "2        322       2010-12-21           135  \n",
       "3        541       2006-10-10           309  \n",
       "4        386       2006-07-04           268  "
      ]
     },
     "execution_count": 3,
     "metadata": {},
     "output_type": "execute_result"
    }
   ],
   "source": [
    "#books table\n",
    "pd.read_sql('SELECT * FROM books LIMIT 5', engine)"
   ]
  },
  {
   "cell_type": "markdown",
   "metadata": {},
   "source": [
    "Description of the data:\n",
    "- book_id — a book identifier, primary key\n",
    "- author_id — a author identifier, foreign key\n",
    "- title — a title of book\n",
    "- num_pages — number of pages\n",
    "- publication_date — release date of the book\n",
    "- publisher_id — a publisher identifier, foreign key"
   ]
  },
  {
   "cell_type": "code",
   "execution_count": 4,
   "metadata": {},
   "outputs": [
    {
     "data": {
      "text/html": [
       "<div>\n",
       "<style scoped>\n",
       "    .dataframe tbody tr th:only-of-type {\n",
       "        vertical-align: middle;\n",
       "    }\n",
       "\n",
       "    .dataframe tbody tr th {\n",
       "        vertical-align: top;\n",
       "    }\n",
       "\n",
       "    .dataframe thead th {\n",
       "        text-align: right;\n",
       "    }\n",
       "</style>\n",
       "<table border=\"1\" class=\"dataframe\">\n",
       "  <thead>\n",
       "    <tr style=\"text-align: right;\">\n",
       "      <th></th>\n",
       "      <th>author_id</th>\n",
       "      <th>author</th>\n",
       "    </tr>\n",
       "  </thead>\n",
       "  <tbody>\n",
       "    <tr>\n",
       "      <th>0</th>\n",
       "      <td>1</td>\n",
       "      <td>A.S. Byatt</td>\n",
       "    </tr>\n",
       "    <tr>\n",
       "      <th>1</th>\n",
       "      <td>2</td>\n",
       "      <td>Aesop/Laura Harris/Laura Gibbs</td>\n",
       "    </tr>\n",
       "    <tr>\n",
       "      <th>2</th>\n",
       "      <td>3</td>\n",
       "      <td>Agatha Christie</td>\n",
       "    </tr>\n",
       "    <tr>\n",
       "      <th>3</th>\n",
       "      <td>4</td>\n",
       "      <td>Alan Brennert</td>\n",
       "    </tr>\n",
       "    <tr>\n",
       "      <th>4</th>\n",
       "      <td>5</td>\n",
       "      <td>Alan Moore/David   Lloyd</td>\n",
       "    </tr>\n",
       "  </tbody>\n",
       "</table>\n",
       "</div>"
      ],
      "text/plain": [
       "   author_id                          author\n",
       "0          1                      A.S. Byatt\n",
       "1          2  Aesop/Laura Harris/Laura Gibbs\n",
       "2          3                 Agatha Christie\n",
       "3          4                   Alan Brennert\n",
       "4          5        Alan Moore/David   Lloyd"
      ]
     },
     "execution_count": 4,
     "metadata": {},
     "output_type": "execute_result"
    }
   ],
   "source": [
    "#authors table\n",
    "pd.read_sql('SELECT * FROM authors LIMIT 5', engine)"
   ]
  },
  {
   "cell_type": "markdown",
   "metadata": {},
   "source": [
    "Description of the data:\n",
    "- author_id — a author identifier, primary key\n",
    "- author — a name of author"
   ]
  },
  {
   "cell_type": "code",
   "execution_count": 5,
   "metadata": {},
   "outputs": [
    {
     "data": {
      "text/html": [
       "<div>\n",
       "<style scoped>\n",
       "    .dataframe tbody tr th:only-of-type {\n",
       "        vertical-align: middle;\n",
       "    }\n",
       "\n",
       "    .dataframe tbody tr th {\n",
       "        vertical-align: top;\n",
       "    }\n",
       "\n",
       "    .dataframe thead th {\n",
       "        text-align: right;\n",
       "    }\n",
       "</style>\n",
       "<table border=\"1\" class=\"dataframe\">\n",
       "  <thead>\n",
       "    <tr style=\"text-align: right;\">\n",
       "      <th></th>\n",
       "      <th>publisher_id</th>\n",
       "      <th>publisher</th>\n",
       "    </tr>\n",
       "  </thead>\n",
       "  <tbody>\n",
       "    <tr>\n",
       "      <th>0</th>\n",
       "      <td>1</td>\n",
       "      <td>Ace</td>\n",
       "    </tr>\n",
       "    <tr>\n",
       "      <th>1</th>\n",
       "      <td>2</td>\n",
       "      <td>Ace Book</td>\n",
       "    </tr>\n",
       "    <tr>\n",
       "      <th>2</th>\n",
       "      <td>3</td>\n",
       "      <td>Ace Books</td>\n",
       "    </tr>\n",
       "    <tr>\n",
       "      <th>3</th>\n",
       "      <td>4</td>\n",
       "      <td>Ace Hardcover</td>\n",
       "    </tr>\n",
       "    <tr>\n",
       "      <th>4</th>\n",
       "      <td>5</td>\n",
       "      <td>Addison Wesley Publishing Company</td>\n",
       "    </tr>\n",
       "  </tbody>\n",
       "</table>\n",
       "</div>"
      ],
      "text/plain": [
       "   publisher_id                          publisher\n",
       "0             1                                Ace\n",
       "1             2                           Ace Book\n",
       "2             3                          Ace Books\n",
       "3             4                      Ace Hardcover\n",
       "4             5  Addison Wesley Publishing Company"
      ]
     },
     "execution_count": 5,
     "metadata": {},
     "output_type": "execute_result"
    }
   ],
   "source": [
    "#publishers table\n",
    "pd.read_sql('SELECT * FROM publishers LIMIT 5', engine)"
   ]
  },
  {
   "cell_type": "markdown",
   "metadata": {},
   "source": [
    "Description of the data:\n",
    "- publisher_id — a publisher identifier, primary key\n",
    "- publisher — a publisher name"
   ]
  },
  {
   "cell_type": "code",
   "execution_count": 6,
   "metadata": {},
   "outputs": [
    {
     "data": {
      "text/html": [
       "<div>\n",
       "<style scoped>\n",
       "    .dataframe tbody tr th:only-of-type {\n",
       "        vertical-align: middle;\n",
       "    }\n",
       "\n",
       "    .dataframe tbody tr th {\n",
       "        vertical-align: top;\n",
       "    }\n",
       "\n",
       "    .dataframe thead th {\n",
       "        text-align: right;\n",
       "    }\n",
       "</style>\n",
       "<table border=\"1\" class=\"dataframe\">\n",
       "  <thead>\n",
       "    <tr style=\"text-align: right;\">\n",
       "      <th></th>\n",
       "      <th>rating_id</th>\n",
       "      <th>book_id</th>\n",
       "      <th>username</th>\n",
       "      <th>rating</th>\n",
       "    </tr>\n",
       "  </thead>\n",
       "  <tbody>\n",
       "    <tr>\n",
       "      <th>0</th>\n",
       "      <td>1</td>\n",
       "      <td>1</td>\n",
       "      <td>ryanfranco</td>\n",
       "      <td>4</td>\n",
       "    </tr>\n",
       "    <tr>\n",
       "      <th>1</th>\n",
       "      <td>2</td>\n",
       "      <td>1</td>\n",
       "      <td>grantpatricia</td>\n",
       "      <td>2</td>\n",
       "    </tr>\n",
       "    <tr>\n",
       "      <th>2</th>\n",
       "      <td>3</td>\n",
       "      <td>1</td>\n",
       "      <td>brandtandrea</td>\n",
       "      <td>5</td>\n",
       "    </tr>\n",
       "    <tr>\n",
       "      <th>3</th>\n",
       "      <td>4</td>\n",
       "      <td>2</td>\n",
       "      <td>lorichen</td>\n",
       "      <td>3</td>\n",
       "    </tr>\n",
       "    <tr>\n",
       "      <th>4</th>\n",
       "      <td>5</td>\n",
       "      <td>2</td>\n",
       "      <td>mariokeller</td>\n",
       "      <td>2</td>\n",
       "    </tr>\n",
       "  </tbody>\n",
       "</table>\n",
       "</div>"
      ],
      "text/plain": [
       "   rating_id  book_id       username  rating\n",
       "0          1        1     ryanfranco       4\n",
       "1          2        1  grantpatricia       2\n",
       "2          3        1   brandtandrea       5\n",
       "3          4        2       lorichen       3\n",
       "4          5        2    mariokeller       2"
      ]
     },
     "execution_count": 6,
     "metadata": {},
     "output_type": "execute_result"
    }
   ],
   "source": [
    "#ratings table\n",
    "pd.read_sql('SELECT * FROM ratings LIMIT 5', engine)"
   ]
  },
  {
   "cell_type": "markdown",
   "metadata": {},
   "source": [
    "Description of the data:\n",
    "- rating_id — a rating identifier, primary key\n",
    "- book_id — a book identifier, foreign key\n",
    "- username — the name of the user who rated the book\n",
    "- rating — a rating"
   ]
  },
  {
   "cell_type": "code",
   "execution_count": 7,
   "metadata": {},
   "outputs": [
    {
     "data": {
      "text/html": [
       "<div>\n",
       "<style scoped>\n",
       "    .dataframe tbody tr th:only-of-type {\n",
       "        vertical-align: middle;\n",
       "    }\n",
       "\n",
       "    .dataframe tbody tr th {\n",
       "        vertical-align: top;\n",
       "    }\n",
       "\n",
       "    .dataframe thead th {\n",
       "        text-align: right;\n",
       "    }\n",
       "</style>\n",
       "<table border=\"1\" class=\"dataframe\">\n",
       "  <thead>\n",
       "    <tr style=\"text-align: right;\">\n",
       "      <th></th>\n",
       "      <th>review_id</th>\n",
       "      <th>book_id</th>\n",
       "      <th>username</th>\n",
       "      <th>text</th>\n",
       "    </tr>\n",
       "  </thead>\n",
       "  <tbody>\n",
       "    <tr>\n",
       "      <th>0</th>\n",
       "      <td>1</td>\n",
       "      <td>1</td>\n",
       "      <td>brandtandrea</td>\n",
       "      <td>Mention society tell send professor analysis. ...</td>\n",
       "    </tr>\n",
       "    <tr>\n",
       "      <th>1</th>\n",
       "      <td>2</td>\n",
       "      <td>1</td>\n",
       "      <td>ryanfranco</td>\n",
       "      <td>Foot glass pretty audience hit themselves. Amo...</td>\n",
       "    </tr>\n",
       "    <tr>\n",
       "      <th>2</th>\n",
       "      <td>3</td>\n",
       "      <td>2</td>\n",
       "      <td>lorichen</td>\n",
       "      <td>Listen treat keep worry. Miss husband tax but ...</td>\n",
       "    </tr>\n",
       "    <tr>\n",
       "      <th>3</th>\n",
       "      <td>4</td>\n",
       "      <td>3</td>\n",
       "      <td>johnsonamanda</td>\n",
       "      <td>Finally month interesting blue could nature cu...</td>\n",
       "    </tr>\n",
       "    <tr>\n",
       "      <th>4</th>\n",
       "      <td>5</td>\n",
       "      <td>3</td>\n",
       "      <td>scotttamara</td>\n",
       "      <td>Nation purpose heavy give wait song will. List...</td>\n",
       "    </tr>\n",
       "  </tbody>\n",
       "</table>\n",
       "</div>"
      ],
      "text/plain": [
       "   review_id  book_id       username  \\\n",
       "0          1        1   brandtandrea   \n",
       "1          2        1     ryanfranco   \n",
       "2          3        2       lorichen   \n",
       "3          4        3  johnsonamanda   \n",
       "4          5        3    scotttamara   \n",
       "\n",
       "                                                text  \n",
       "0  Mention society tell send professor analysis. ...  \n",
       "1  Foot glass pretty audience hit themselves. Amo...  \n",
       "2  Listen treat keep worry. Miss husband tax but ...  \n",
       "3  Finally month interesting blue could nature cu...  \n",
       "4  Nation purpose heavy give wait song will. List...  "
      ]
     },
     "execution_count": 7,
     "metadata": {},
     "output_type": "execute_result"
    }
   ],
   "source": [
    "#reviews table\n",
    "pd.read_sql('SELECT * FROM reviews LIMIT 5', engine)"
   ]
  },
  {
   "cell_type": "markdown",
   "metadata": {},
   "source": [
    "Description of the data:\n",
    "- review_id — a review identifier, primary key\n",
    "- book_id — a book identifier, foreign key\n",
    "- username — the name of the user who reviewed the book\n",
    "- text — the text of the review"
   ]
  },
  {
   "cell_type": "markdown",
   "metadata": {},
   "source": [
    "### Conclusion.<a class=\"anchor\" id=\"part1Conclusion\"></a>\n",
    "[Go back to the Contents](#contents)\n",
    "\n",
    "All data match the descriptions. "
   ]
  },
  {
   "cell_type": "markdown",
   "metadata": {},
   "source": [
    "## 2. Exploratory data analysis <a class=\"anchor\" id=\"Part_2\"></a>\n",
    "\n",
    "In this part we will collect some statistics."
   ]
  },
  {
   "cell_type": "markdown",
   "metadata": {},
   "source": [
    "- **Find the number of books released after January 1, 2000.**"
   ]
  },
  {
   "cell_type": "code",
   "execution_count": 8,
   "metadata": {},
   "outputs": [],
   "source": [
    "#sql query\n",
    "query= '''SELECT COUNT(*) \n",
    "            FROM books \n",
    "           WHERE publication_date:: date > '2000-01-01' \n",
    "       '''\n",
    "#sql query execution\n",
    "df= pd.read_sql(query, engine)"
   ]
  },
  {
   "cell_type": "code",
   "execution_count": 9,
   "metadata": {},
   "outputs": [
    {
     "name": "stdout",
     "output_type": "stream",
     "text": [
      "The number of books released after January 1, 2000:\n",
      "819\n"
     ]
    }
   ],
   "source": [
    "print('The number of books released after January 1, 2000:')\n",
    "print(df['count'][0])"
   ]
  },
  {
   "cell_type": "markdown",
   "metadata": {},
   "source": [
    "Since January 1, 2000, ratings and reviews of 819 books and brochures have been posted in the application."
   ]
  },
  {
   "cell_type": "markdown",
   "metadata": {},
   "source": [
    "- **Find the number of user reviews and the average rating for each book.**"
   ]
  },
  {
   "cell_type": "code",
   "execution_count": 10,
   "metadata": {},
   "outputs": [],
   "source": [
    "#sql query\n",
    "query= '''SELECT a.author, b.title, p.publisher\n",
    "               , COUNT(rv.review_id) as count_reviews\n",
    "               , AVG(rt.rating) as average_rating              \n",
    "            FROM books b\n",
    "           INNER JOIN authors a ON b.author_id = a.author_id \n",
    "           INNER JOIN publishers p ON p.publisher_id = b.publisher_id \n",
    "            LEFT JOIN reviews rv ON rv.book_id = b.book_id\n",
    "            LEFT JOIN ratings rt ON rt.book_id = b.book_id\n",
    "           WHERE b.publication_date:: date > '2000-01-01'\n",
    "           GROUP BY a.author, b.title, p.publisher\n",
    "           ORDER BY average_rating DESC\n",
    "       '''\n",
    "#sql query execution\n",
    "df= pd.read_sql(query, engine)"
   ]
  },
  {
   "cell_type": "code",
   "execution_count": 11,
   "metadata": {},
   "outputs": [
    {
     "data": {
      "text/html": [
       "<div>\n",
       "<style scoped>\n",
       "    .dataframe tbody tr th:only-of-type {\n",
       "        vertical-align: middle;\n",
       "    }\n",
       "\n",
       "    .dataframe tbody tr th {\n",
       "        vertical-align: top;\n",
       "    }\n",
       "\n",
       "    .dataframe thead th {\n",
       "        text-align: right;\n",
       "    }\n",
       "</style>\n",
       "<table border=\"1\" class=\"dataframe\">\n",
       "  <thead>\n",
       "    <tr style=\"text-align: right;\">\n",
       "      <th></th>\n",
       "      <th>count_reviews</th>\n",
       "      <th>average_rating</th>\n",
       "    </tr>\n",
       "  </thead>\n",
       "  <tbody>\n",
       "    <tr>\n",
       "      <th>count</th>\n",
       "      <td>819.000000</td>\n",
       "      <td>819.000000</td>\n",
       "    </tr>\n",
       "    <tr>\n",
       "      <th>mean</th>\n",
       "      <td>26.902320</td>\n",
       "      <td>3.900203</td>\n",
       "    </tr>\n",
       "    <tr>\n",
       "      <th>std</th>\n",
       "      <td>70.340164</td>\n",
       "      <td>0.559967</td>\n",
       "    </tr>\n",
       "    <tr>\n",
       "      <th>min</th>\n",
       "      <td>0.000000</td>\n",
       "      <td>2.000000</td>\n",
       "    </tr>\n",
       "    <tr>\n",
       "      <th>25%</th>\n",
       "      <td>4.000000</td>\n",
       "      <td>3.500000</td>\n",
       "    </tr>\n",
       "    <tr>\n",
       "      <th>50%</th>\n",
       "      <td>9.000000</td>\n",
       "      <td>4.000000</td>\n",
       "    </tr>\n",
       "    <tr>\n",
       "      <th>75%</th>\n",
       "      <td>20.000000</td>\n",
       "      <td>4.333333</td>\n",
       "    </tr>\n",
       "    <tr>\n",
       "      <th>max</th>\n",
       "      <td>1120.000000</td>\n",
       "      <td>5.000000</td>\n",
       "    </tr>\n",
       "  </tbody>\n",
       "</table>\n",
       "</div>"
      ],
      "text/plain": [
       "       count_reviews  average_rating\n",
       "count     819.000000      819.000000\n",
       "mean       26.902320        3.900203\n",
       "std        70.340164        0.559967\n",
       "min         0.000000        2.000000\n",
       "25%         4.000000        3.500000\n",
       "50%         9.000000        4.000000\n",
       "75%        20.000000        4.333333\n",
       "max      1120.000000        5.000000"
      ]
     },
     "execution_count": 11,
     "metadata": {},
     "output_type": "execute_result"
    }
   ],
   "source": [
    "#descriptive statistics\n",
    "df.describe()"
   ]
  },
  {
   "cell_type": "markdown",
   "metadata": {},
   "source": [
    "As we can see, not all books are rated and not all of them have reviews.<br>\n",
    "But basically, books receive from 4 to 20 reviews, on average, this is 9 reviews.<br>\n",
    "The rating scale ranges from 2 to 5. The average rating is 4.\n",
    "\n",
    "The *count_reviews* column contains an extra maximum value, let's take a closer look."
   ]
  },
  {
   "cell_type": "code",
   "execution_count": 12,
   "metadata": {},
   "outputs": [
    {
     "data": {
      "text/html": [
       "<style  type=\"text/css\" >\n",
       "#T_2aa712b8_a724_11eb_87f6_0cdd24f17286row0_col3,#T_2aa712b8_a724_11eb_87f6_0cdd24f17286row3_col4{\n",
       "            background-color:  #72c7c7;\n",
       "            color:  #000000;\n",
       "        }#T_2aa712b8_a724_11eb_87f6_0cdd24f17286row0_col4,#T_2aa712b8_a724_11eb_87f6_0cdd24f17286row4_col3{\n",
       "            background-color:  #f7fcf0;\n",
       "            color:  #000000;\n",
       "        }#T_2aa712b8_a724_11eb_87f6_0cdd24f17286row1_col3{\n",
       "            background-color:  #e9f6e3;\n",
       "            color:  #000000;\n",
       "        }#T_2aa712b8_a724_11eb_87f6_0cdd24f17286row1_col4{\n",
       "            background-color:  #b7e3bc;\n",
       "            color:  #000000;\n",
       "        }#T_2aa712b8_a724_11eb_87f6_0cdd24f17286row2_col3{\n",
       "            background-color:  #eaf7e4;\n",
       "            color:  #000000;\n",
       "        }#T_2aa712b8_a724_11eb_87f6_0cdd24f17286row2_col4{\n",
       "            background-color:  #e2f4dd;\n",
       "            color:  #000000;\n",
       "        }#T_2aa712b8_a724_11eb_87f6_0cdd24f17286row3_col3{\n",
       "            background-color:  #eef8e7;\n",
       "            color:  #000000;\n",
       "        }#T_2aa712b8_a724_11eb_87f6_0cdd24f17286row4_col4{\n",
       "            background-color:  #f6fbef;\n",
       "            color:  #000000;\n",
       "        }</style><table id=\"T_2aa712b8_a724_11eb_87f6_0cdd24f17286\" ><thead>    <tr>        <th class=\"blank level0\" ></th>        <th class=\"col_heading level0 col0\" >author</th>        <th class=\"col_heading level0 col1\" >title</th>        <th class=\"col_heading level0 col2\" >publisher</th>        <th class=\"col_heading level0 col3\" >count_reviews</th>        <th class=\"col_heading level0 col4\" >average_rating</th>    </tr></thead><tbody>\n",
       "                <tr>\n",
       "                        <th id=\"T_2aa712b8_a724_11eb_87f6_0cdd24f17286level0_row0\" class=\"row_heading level0 row0\" >562</th>\n",
       "                        <td id=\"T_2aa712b8_a724_11eb_87f6_0cdd24f17286row0_col0\" class=\"data row0 col0\" >Stephenie Meyer</td>\n",
       "                        <td id=\"T_2aa712b8_a724_11eb_87f6_0cdd24f17286row0_col1\" class=\"data row0 col1\" >Twilight (Twilight  #1)</td>\n",
       "                        <td id=\"T_2aa712b8_a724_11eb_87f6_0cdd24f17286row0_col2\" class=\"data row0 col2\" >Little  Brown and Company</td>\n",
       "                        <td id=\"T_2aa712b8_a724_11eb_87f6_0cdd24f17286row0_col3\" class=\"data row0 col3\" >1120</td>\n",
       "                        <td id=\"T_2aa712b8_a724_11eb_87f6_0cdd24f17286row0_col4\" class=\"data row0 col4\" >3.662500</td>\n",
       "            </tr>\n",
       "            <tr>\n",
       "                        <th id=\"T_2aa712b8_a724_11eb_87f6_0cdd24f17286level0_row1\" class=\"row_heading level0 row1\" >273</th>\n",
       "                        <td id=\"T_2aa712b8_a724_11eb_87f6_0cdd24f17286row1_col0\" class=\"data row1 col0\" >J.R.R. Tolkien</td>\n",
       "                        <td id=\"T_2aa712b8_a724_11eb_87f6_0cdd24f17286row1_col1\" class=\"data row1 col1\" >The Hobbit  or There and Back Again</td>\n",
       "                        <td id=\"T_2aa712b8_a724_11eb_87f6_0cdd24f17286row1_col2\" class=\"data row1 col2\" >Houghton Mifflin</td>\n",
       "                        <td id=\"T_2aa712b8_a724_11eb_87f6_0cdd24f17286row1_col3\" class=\"data row1 col3\" >528</td>\n",
       "                        <td id=\"T_2aa712b8_a724_11eb_87f6_0cdd24f17286row1_col4\" class=\"data row1 col4\" >4.125000</td>\n",
       "            </tr>\n",
       "            <tr>\n",
       "                        <th id=\"T_2aa712b8_a724_11eb_87f6_0cdd24f17286level0_row2\" class=\"row_heading level0 row2\" >487</th>\n",
       "                        <td id=\"T_2aa712b8_a724_11eb_87f6_0cdd24f17286row2_col0\" class=\"data row2 col0\" >J.D. Salinger</td>\n",
       "                        <td id=\"T_2aa712b8_a724_11eb_87f6_0cdd24f17286row2_col1\" class=\"data row2 col1\" >The Catcher in the Rye</td>\n",
       "                        <td id=\"T_2aa712b8_a724_11eb_87f6_0cdd24f17286row2_col2\" class=\"data row2 col2\" >Back Bay Books</td>\n",
       "                        <td id=\"T_2aa712b8_a724_11eb_87f6_0cdd24f17286row2_col3\" class=\"data row2 col3\" >516</td>\n",
       "                        <td id=\"T_2aa712b8_a724_11eb_87f6_0cdd24f17286row2_col4\" class=\"data row2 col4\" >3.825581</td>\n",
       "            </tr>\n",
       "            <tr>\n",
       "                        <th id=\"T_2aa712b8_a724_11eb_87f6_0cdd24f17286level0_row3\" class=\"row_heading level0 row3\" >161</th>\n",
       "                        <td id=\"T_2aa712b8_a724_11eb_87f6_0cdd24f17286row3_col0\" class=\"data row3 col0\" >J.K. Rowling/Mary GrandPré</td>\n",
       "                        <td id=\"T_2aa712b8_a724_11eb_87f6_0cdd24f17286row3_col1\" class=\"data row3 col1\" >Harry Potter and the Prisoner of Azkaban (Harry Potter  #3)</td>\n",
       "                        <td id=\"T_2aa712b8_a724_11eb_87f6_0cdd24f17286row3_col2\" class=\"data row3 col2\" >Scholastic Inc.</td>\n",
       "                        <td id=\"T_2aa712b8_a724_11eb_87f6_0cdd24f17286row3_col3\" class=\"data row3 col3\" >492</td>\n",
       "                        <td id=\"T_2aa712b8_a724_11eb_87f6_0cdd24f17286row3_col4\" class=\"data row3 col4\" >4.414634</td>\n",
       "            </tr>\n",
       "            <tr>\n",
       "                        <th id=\"T_2aa712b8_a724_11eb_87f6_0cdd24f17286level0_row4\" class=\"row_heading level0 row4\" >530</th>\n",
       "                        <td id=\"T_2aa712b8_a724_11eb_87f6_0cdd24f17286row4_col0\" class=\"data row4 col0\" >Dan Brown</td>\n",
       "                        <td id=\"T_2aa712b8_a724_11eb_87f6_0cdd24f17286row4_col1\" class=\"data row4 col1\" >Angels & Demons (Robert Langdon  #1)</td>\n",
       "                        <td id=\"T_2aa712b8_a724_11eb_87f6_0cdd24f17286row4_col2\" class=\"data row4 col2\" >Pocket Books</td>\n",
       "                        <td id=\"T_2aa712b8_a724_11eb_87f6_0cdd24f17286row4_col3\" class=\"data row4 col3\" >420</td>\n",
       "                        <td id=\"T_2aa712b8_a724_11eb_87f6_0cdd24f17286row4_col4\" class=\"data row4 col4\" >3.678571</td>\n",
       "            </tr>\n",
       "    </tbody></table>"
      ],
      "text/plain": [
       "<pandas.io.formats.style.Styler at 0x1dae79e49c8>"
      ]
     },
     "execution_count": 12,
     "metadata": {},
     "output_type": "execute_result"
    }
   ],
   "source": [
    "#dataset in detail view\n",
    "df[df['count_reviews']>400].sort_values('count_reviews', ascending=False)\\\n",
    "                           .style.background_gradient(low=0, high=.9, cmap='GnBu'\n",
    "                                                      , subset=['count_reviews','average_rating'])"
   ]
  },
  {
   "cell_type": "markdown",
   "metadata": {},
   "source": [
    "Stephenie Meyer's book received a large number of reviews, but this did not affect the rating. It remained below average.<br>\n",
    "Let's check the correlation between the values."
   ]
  },
  {
   "cell_type": "code",
   "execution_count": 13,
   "metadata": {},
   "outputs": [
    {
     "data": {
      "image/png": "[encoded data removed]",
      "text/plain": [
       "<Figure size 720x288 with 2 Axes>"
      ]
     },
     "metadata": {
      "needs_background": "light"
     },
     "output_type": "display_data"
    }
   ],
   "source": [
    "#remove outlier count_reviews=1120\n",
    "corrMatrix = df[df['count_reviews']<1120].corr()\n",
    "#heatmap chart\n",
    "plt.figure(figsize=(10,4))\n",
    "sns.heatmap(corrMatrix, cmap='PRGn_r', annot=True, alpha=.6);"
   ]
  },
  {
   "cell_type": "markdown",
   "metadata": {},
   "source": [
    "We see low correlation of values."
   ]
  },
  {
   "cell_type": "markdown",
   "metadata": {},
   "source": [
    "- **Identify the publisher that has released the greatest number of books with more than 50 pages (this will help us exclude brochures and similar publications from your analysis)**"
   ]
  },
  {
   "cell_type": "code",
   "execution_count": 14,
   "metadata": {},
   "outputs": [],
   "source": [
    "#sql query\n",
    "query= '''SELECT p.publisher\n",
    "               , COUNT(p.publisher) as number_of_books \n",
    "            FROM publishers p\n",
    "           INNER JOIN books b ON p.publisher_id=b.publisher_id\n",
    "           WHERE b.publication_date:: date > '2000-01-01'\n",
    "             AND b.num_pages>50\n",
    "           GROUP BY p.publisher\n",
    "           ORDER BY number_of_books DESC\n",
    "           LIMIT 5\n",
    "       '''\n",
    "#sql query execution\n",
    "df= pd.read_sql(query, engine)"
   ]
  },
  {
   "cell_type": "markdown",
   "metadata": {},
   "source": [
    "We have selected the 5 most popular publishers, let's see them on the graph."
   ]
  },
  {
   "cell_type": "code",
   "execution_count": 15,
   "metadata": {},
   "outputs": [
    {
     "data": {
      "image/png": "[encoded data removed]",
      "text/plain": [
       "<Figure size 864x288 with 1 Axes>"
      ]
     },
     "metadata": {
      "needs_background": "light"
     },
     "output_type": "display_data"
    }
   ],
   "source": [
    "#plotting\n",
    "fig, ax1 = plt.subplots(figsize=(12, 4))\n",
    "ax = sns.barplot(x=df['publisher'], \n",
    "                 y=df['number_of_books'], \n",
    "                 palette=\"PRGn\", ax=ax1);\n",
    "\n",
    "#annotation of bar labels\n",
    "for p in ax.patches:\n",
    "        ax.annotate('{:.0f}'.format(p.get_height()), (p.get_x()+0.4, p.get_height()), \n",
    "                    ha='center', va='bottom', color= 'black')\n",
    "ax.set(title='The greatest number of books', ylabel='Number of books', xlabel='Publishers');\n",
    "plt.xticks(rotation=20);\n",
    "sns.despine(fig);"
   ]
  },
  {
   "cell_type": "markdown",
   "metadata": {},
   "source": [
    "The Penguin Publishing Group committed to publishing great books and spreading the love of reading."
   ]
  },
  {
   "cell_type": "markdown",
   "metadata": {},
   "source": [
    "- **Identify the author with the highest average book rating: look only at books with at least 50 ratings.**"
   ]
  },
  {
   "cell_type": "code",
   "execution_count": 16,
   "metadata": {},
   "outputs": [],
   "source": [
    "#sql query\n",
    "query= '''SELECT a.author, b.title, p.publisher\n",
    "               , COUNT(rv.review_id) as count_reviews\n",
    "               , AVG(rt.rating) as average_rating              \n",
    "            FROM books b\n",
    "           INNER JOIN authors a ON b.author_id = a.author_id \n",
    "           INNER JOIN publishers p ON p.publisher_id = b.publisher_id \n",
    "            LEFT JOIN reviews rv ON rv.book_id = b.book_id\n",
    "            LEFT JOIN ratings rt ON rt.book_id = b.book_id\n",
    "           WHERE b.publication_date:: date > '2000-01-01'\n",
    "             AND b.num_pages>50\n",
    "           GROUP BY a.author, b.title, p.publisher\n",
    "          HAVING COUNT(rv.review_id)>=50\n",
    "           ORDER BY average_rating DESC\n",
    "           LIMIT 10\n",
    "       '''\n",
    "#sql query execution\n",
    "df= pd.read_sql(query, engine)"
   ]
  },
  {
   "cell_type": "code",
   "execution_count": 17,
   "metadata": {},
   "outputs": [
    {
     "data": {
      "text/html": [
       "<style  type=\"text/css\" >\n",
       "#T_2bf96e3a_a724_11eb_8fc6_0cdd24f17286row0_col3,#T_2bf96e3a_a724_11eb_8fc6_0cdd24f17286row8_col4,#T_2bf96e3a_a724_11eb_8fc6_0cdd24f17286row9_col4{\n",
       "            width:  10em;\n",
       "             height:  80%;\n",
       "        }#T_2bf96e3a_a724_11eb_8fc6_0cdd24f17286row0_col4,#T_2bf96e3a_a724_11eb_8fc6_0cdd24f17286row2_col3{\n",
       "            width:  10em;\n",
       "             height:  80%;\n",
       "            background:  linear-gradient(90deg,#5fba7d 100.0%, transparent 100.0%);\n",
       "        }#T_2bf96e3a_a724_11eb_8fc6_0cdd24f17286row1_col3,#T_2bf96e3a_a724_11eb_8fc6_0cdd24f17286row5_col3,#T_2bf96e3a_a724_11eb_8fc6_0cdd24f17286row6_col3{\n",
       "            width:  10em;\n",
       "             height:  80%;\n",
       "            background:  linear-gradient(90deg,#5fba7d 12.6%, transparent 12.6%);\n",
       "        }#T_2bf96e3a_a724_11eb_8fc6_0cdd24f17286row1_col4{\n",
       "            width:  10em;\n",
       "             height:  80%;\n",
       "            background:  linear-gradient(90deg,#5fba7d 52.9%, transparent 52.9%);\n",
       "        }#T_2bf96e3a_a724_11eb_8fc6_0cdd24f17286row2_col4{\n",
       "            width:  10em;\n",
       "             height:  80%;\n",
       "            background:  linear-gradient(90deg,#5fba7d 42.6%, transparent 42.6%);\n",
       "        }#T_2bf96e3a_a724_11eb_8fc6_0cdd24f17286row3_col3{\n",
       "            width:  10em;\n",
       "             height:  80%;\n",
       "            background:  linear-gradient(90deg,#5fba7d 72.1%, transparent 72.1%);\n",
       "        }#T_2bf96e3a_a724_11eb_8fc6_0cdd24f17286row3_col4{\n",
       "            width:  10em;\n",
       "             height:  80%;\n",
       "            background:  linear-gradient(90deg,#5fba7d 36.7%, transparent 36.7%);\n",
       "        }#T_2bf96e3a_a724_11eb_8fc6_0cdd24f17286row4_col3{\n",
       "            width:  10em;\n",
       "             height:  80%;\n",
       "            background:  linear-gradient(90deg,#5fba7d 13.7%, transparent 13.7%);\n",
       "        }#T_2bf96e3a_a724_11eb_8fc6_0cdd24f17286row4_col4{\n",
       "            width:  10em;\n",
       "             height:  80%;\n",
       "            background:  linear-gradient(90deg,#5fba7d 36.6%, transparent 36.6%);\n",
       "        }#T_2bf96e3a_a724_11eb_8fc6_0cdd24f17286row5_col4{\n",
       "            width:  10em;\n",
       "             height:  80%;\n",
       "            background:  linear-gradient(90deg,#5fba7d 29.4%, transparent 29.4%);\n",
       "        }#T_2bf96e3a_a724_11eb_8fc6_0cdd24f17286row6_col4{\n",
       "            width:  10em;\n",
       "             height:  80%;\n",
       "            background:  linear-gradient(90deg,#5fba7d 5.9%, transparent 5.9%);\n",
       "        }#T_2bf96e3a_a724_11eb_8fc6_0cdd24f17286row7_col3{\n",
       "            width:  10em;\n",
       "             height:  80%;\n",
       "            background:  linear-gradient(90deg,#5fba7d 60.2%, transparent 60.2%);\n",
       "        }#T_2bf96e3a_a724_11eb_8fc6_0cdd24f17286row7_col4{\n",
       "            width:  10em;\n",
       "             height:  80%;\n",
       "            background:  linear-gradient(90deg,#5fba7d 3.7%, transparent 3.7%);\n",
       "        }#T_2bf96e3a_a724_11eb_8fc6_0cdd24f17286row8_col3{\n",
       "            width:  10em;\n",
       "             height:  80%;\n",
       "            background:  linear-gradient(90deg,#5fba7d 2.1%, transparent 2.1%);\n",
       "        }#T_2bf96e3a_a724_11eb_8fc6_0cdd24f17286row9_col3{\n",
       "            width:  10em;\n",
       "             height:  80%;\n",
       "            background:  linear-gradient(90deg,#5fba7d 1.1%, transparent 1.1%);\n",
       "        }</style><table id=\"T_2bf96e3a_a724_11eb_8fc6_0cdd24f17286\" ><thead>    <tr>        <th class=\"blank level0\" ></th>        <th class=\"col_heading level0 col0\" >author</th>        <th class=\"col_heading level0 col1\" >title</th>        <th class=\"col_heading level0 col2\" >publisher</th>        <th class=\"col_heading level0 col3\" >count_reviews</th>        <th class=\"col_heading level0 col4\" >average_rating</th>    </tr></thead><tbody>\n",
       "                <tr>\n",
       "                        <th id=\"T_2bf96e3a_a724_11eb_8fc6_0cdd24f17286level0_row0\" class=\"row_heading level0 row0\" >0</th>\n",
       "                        <td id=\"T_2bf96e3a_a724_11eb_8fc6_0cdd24f17286row0_col0\" class=\"data row0 col0\" >Lisa See</td>\n",
       "                        <td id=\"T_2bf96e3a_a724_11eb_8fc6_0cdd24f17286row0_col1\" class=\"data row0 col1\" >Snow Flower and the Secret Fan</td>\n",
       "                        <td id=\"T_2bf96e3a_a724_11eb_8fc6_0cdd24f17286row0_col2\" class=\"data row0 col2\" >Random House</td>\n",
       "                        <td id=\"T_2bf96e3a_a724_11eb_8fc6_0cdd24f17286row0_col3\" class=\"data row0 col3\" >55</td>\n",
       "                        <td id=\"T_2bf96e3a_a724_11eb_8fc6_0cdd24f17286row0_col4\" class=\"data row0 col4\" >4.636364</td>\n",
       "            </tr>\n",
       "            <tr>\n",
       "                        <th id=\"T_2bf96e3a_a724_11eb_8fc6_0cdd24f17286level0_row1\" class=\"row_heading level0 row1\" >1</th>\n",
       "                        <td id=\"T_2bf96e3a_a724_11eb_8fc6_0cdd24f17286row1_col0\" class=\"data row1 col0\" >Agatha Christie</td>\n",
       "                        <td id=\"T_2bf96e3a_a724_11eb_8fc6_0cdd24f17286row1_col1\" class=\"data row1 col1\" >And Then There Were None</td>\n",
       "                        <td id=\"T_2bf96e3a_a724_11eb_8fc6_0cdd24f17286row1_col2\" class=\"data row1 col2\" >St. Martin's Press</td>\n",
       "                        <td id=\"T_2bf96e3a_a724_11eb_8fc6_0cdd24f17286row1_col3\" class=\"data row1 col3\" >110</td>\n",
       "                        <td id=\"T_2bf96e3a_a724_11eb_8fc6_0cdd24f17286row1_col4\" class=\"data row1 col4\" >4.454545</td>\n",
       "            </tr>\n",
       "            <tr>\n",
       "                        <th id=\"T_2bf96e3a_a724_11eb_8fc6_0cdd24f17286level0_row2\" class=\"row_heading level0 row2\" >2</th>\n",
       "                        <td id=\"T_2bf96e3a_a724_11eb_8fc6_0cdd24f17286row2_col0\" class=\"data row2 col0\" >J.K. Rowling/Mary GrandPré</td>\n",
       "                        <td id=\"T_2bf96e3a_a724_11eb_8fc6_0cdd24f17286row2_col1\" class=\"data row2 col1\" >Harry Potter and the Prisoner of Azkaban (Harry Potter  #3)</td>\n",
       "                        <td id=\"T_2bf96e3a_a724_11eb_8fc6_0cdd24f17286row2_col2\" class=\"data row2 col2\" >Scholastic Inc.</td>\n",
       "                        <td id=\"T_2bf96e3a_a724_11eb_8fc6_0cdd24f17286row2_col3\" class=\"data row2 col3\" >492</td>\n",
       "                        <td id=\"T_2bf96e3a_a724_11eb_8fc6_0cdd24f17286row2_col4\" class=\"data row2 col4\" >4.414634</td>\n",
       "            </tr>\n",
       "            <tr>\n",
       "                        <th id=\"T_2bf96e3a_a724_11eb_8fc6_0cdd24f17286level0_row3\" class=\"row_heading level0 row3\" >3</th>\n",
       "                        <td id=\"T_2bf96e3a_a724_11eb_8fc6_0cdd24f17286row3_col0\" class=\"data row3 col0\" >J.R.R. Tolkien</td>\n",
       "                        <td id=\"T_2bf96e3a_a724_11eb_8fc6_0cdd24f17286row3_col1\" class=\"data row3 col1\" >The Fellowship of the Ring (The Lord of the Rings  #1)</td>\n",
       "                        <td id=\"T_2bf96e3a_a724_11eb_8fc6_0cdd24f17286row3_col2\" class=\"data row3 col2\" >Houghton Mifflin Harcourt</td>\n",
       "                        <td id=\"T_2bf96e3a_a724_11eb_8fc6_0cdd24f17286row3_col3\" class=\"data row3 col3\" >370</td>\n",
       "                        <td id=\"T_2bf96e3a_a724_11eb_8fc6_0cdd24f17286row3_col4\" class=\"data row3 col4\" >4.391892</td>\n",
       "            </tr>\n",
       "            <tr>\n",
       "                        <th id=\"T_2bf96e3a_a724_11eb_8fc6_0cdd24f17286level0_row4\" class=\"row_heading level0 row4\" >4</th>\n",
       "                        <td id=\"T_2bf96e3a_a724_11eb_8fc6_0cdd24f17286row4_col0\" class=\"data row4 col0\" >George R.R. Martin</td>\n",
       "                        <td id=\"T_2bf96e3a_a724_11eb_8fc6_0cdd24f17286row4_col1\" class=\"data row4 col1\" >A Clash of Kings  (A Song of Ice and Fire  #2)</td>\n",
       "                        <td id=\"T_2bf96e3a_a724_11eb_8fc6_0cdd24f17286row4_col2\" class=\"data row4 col2\" >Bantam</td>\n",
       "                        <td id=\"T_2bf96e3a_a724_11eb_8fc6_0cdd24f17286row4_col3\" class=\"data row4 col3\" >115</td>\n",
       "                        <td id=\"T_2bf96e3a_a724_11eb_8fc6_0cdd24f17286row4_col4\" class=\"data row4 col4\" >4.391304</td>\n",
       "            </tr>\n",
       "            <tr>\n",
       "                        <th id=\"T_2bf96e3a_a724_11eb_8fc6_0cdd24f17286level0_row5\" class=\"row_heading level0 row5\" >5</th>\n",
       "                        <td id=\"T_2bf96e3a_a724_11eb_8fc6_0cdd24f17286row5_col0\" class=\"data row5 col0\" >Barbara Kingsolver</td>\n",
       "                        <td id=\"T_2bf96e3a_a724_11eb_8fc6_0cdd24f17286row5_col1\" class=\"data row5 col1\" >The Poisonwood Bible</td>\n",
       "                        <td id=\"T_2bf96e3a_a724_11eb_8fc6_0cdd24f17286row5_col2\" class=\"data row5 col2\" >Harper Perennial Modern Classics</td>\n",
       "                        <td id=\"T_2bf96e3a_a724_11eb_8fc6_0cdd24f17286row5_col3\" class=\"data row5 col3\" >110</td>\n",
       "                        <td id=\"T_2bf96e3a_a724_11eb_8fc6_0cdd24f17286row5_col4\" class=\"data row5 col4\" >4.363636</td>\n",
       "            </tr>\n",
       "            <tr>\n",
       "                        <th id=\"T_2bf96e3a_a724_11eb_8fc6_0cdd24f17286level0_row6\" class=\"row_heading level0 row6\" >6</th>\n",
       "                        <td id=\"T_2bf96e3a_a724_11eb_8fc6_0cdd24f17286row6_col0\" class=\"data row6 col0\" >Rick Riordan</td>\n",
       "                        <td id=\"T_2bf96e3a_a724_11eb_8fc6_0cdd24f17286row6_col1\" class=\"data row6 col1\" >The Sea of Monsters (Percy Jackson and the Olympians  #2)</td>\n",
       "                        <td id=\"T_2bf96e3a_a724_11eb_8fc6_0cdd24f17286row6_col2\" class=\"data row6 col2\" >Hyperion Books</td>\n",
       "                        <td id=\"T_2bf96e3a_a724_11eb_8fc6_0cdd24f17286row6_col3\" class=\"data row6 col3\" >110</td>\n",
       "                        <td id=\"T_2bf96e3a_a724_11eb_8fc6_0cdd24f17286row6_col4\" class=\"data row6 col4\" >4.272727</td>\n",
       "            </tr>\n",
       "            <tr>\n",
       "                        <th id=\"T_2bf96e3a_a724_11eb_8fc6_0cdd24f17286level0_row7\" class=\"row_heading level0 row7\" >7</th>\n",
       "                        <td id=\"T_2bf96e3a_a724_11eb_8fc6_0cdd24f17286row7_col0\" class=\"data row7 col0\" >Markus Zusak/Cao Xuân Việt Khương</td>\n",
       "                        <td id=\"T_2bf96e3a_a724_11eb_8fc6_0cdd24f17286row7_col1\" class=\"data row7 col1\" >The Book Thief</td>\n",
       "                        <td id=\"T_2bf96e3a_a724_11eb_8fc6_0cdd24f17286row7_col2\" class=\"data row7 col2\" >Alfred A. Knopf</td>\n",
       "                        <td id=\"T_2bf96e3a_a724_11eb_8fc6_0cdd24f17286row7_col3\" class=\"data row7 col3\" >318</td>\n",
       "                        <td id=\"T_2bf96e3a_a724_11eb_8fc6_0cdd24f17286row7_col4\" class=\"data row7 col4\" >4.264151</td>\n",
       "            </tr>\n",
       "            <tr>\n",
       "                        <th id=\"T_2bf96e3a_a724_11eb_8fc6_0cdd24f17286level0_row8\" class=\"row_heading level0 row8\" >8</th>\n",
       "                        <td id=\"T_2bf96e3a_a724_11eb_8fc6_0cdd24f17286row8_col0\" class=\"data row8 col0\" >Alice Walker</td>\n",
       "                        <td id=\"T_2bf96e3a_a724_11eb_8fc6_0cdd24f17286row8_col1\" class=\"data row8 col1\" >The Color Purple</td>\n",
       "                        <td id=\"T_2bf96e3a_a724_11eb_8fc6_0cdd24f17286row8_col2\" class=\"data row8 col2\" >Pocket</td>\n",
       "                        <td id=\"T_2bf96e3a_a724_11eb_8fc6_0cdd24f17286row8_col3\" class=\"data row8 col3\" >64</td>\n",
       "                        <td id=\"T_2bf96e3a_a724_11eb_8fc6_0cdd24f17286row8_col4\" class=\"data row8 col4\" >4.250000</td>\n",
       "            </tr>\n",
       "            <tr>\n",
       "                        <th id=\"T_2bf96e3a_a724_11eb_8fc6_0cdd24f17286level0_row9\" class=\"row_heading level0 row9\" >9</th>\n",
       "                        <td id=\"T_2bf96e3a_a724_11eb_8fc6_0cdd24f17286row9_col0\" class=\"data row9 col0\" >Betty  Smith</td>\n",
       "                        <td id=\"T_2bf96e3a_a724_11eb_8fc6_0cdd24f17286row9_col1\" class=\"data row9 col1\" >A Tree Grows in Brooklyn</td>\n",
       "                        <td id=\"T_2bf96e3a_a724_11eb_8fc6_0cdd24f17286row9_col2\" class=\"data row9 col2\" >HarperCollins Publishers</td>\n",
       "                        <td id=\"T_2bf96e3a_a724_11eb_8fc6_0cdd24f17286row9_col3\" class=\"data row9 col3\" >60</td>\n",
       "                        <td id=\"T_2bf96e3a_a724_11eb_8fc6_0cdd24f17286row9_col4\" class=\"data row9 col4\" >4.250000</td>\n",
       "            </tr>\n",
       "    </tbody></table>"
      ],
      "text/plain": [
       "<pandas.io.formats.style.Styler at 0x1dae797a248>"
      ]
     },
     "execution_count": 17,
     "metadata": {},
     "output_type": "execute_result"
    }
   ],
   "source": [
    "#dataframe visualization\n",
    "df.style.bar(['count_reviews', 'average_rating'], color='#5fba7d')"
   ]
  },
  {
   "cell_type": "markdown",
   "metadata": {},
   "source": [
    "The highest rating is given to the author Lisa See with the book \"Snow Flower and the Secret Fan\"."
   ]
  },
  {
   "cell_type": "markdown",
   "metadata": {},
   "source": [
    "- **Find the average number of text reviews among users who rated more than 50 books.**"
   ]
  },
  {
   "cell_type": "code",
   "execution_count": 18,
   "metadata": {},
   "outputs": [],
   "source": [
    "#sql query\n",
    "query= '''SELECT AVG(t.count_text_reviews) as average_number   \n",
    "            FROM (\n",
    "                  SELECT rt.username\n",
    "                       , COUNT(rv.username) count_text_reviews\n",
    "                    FROM books b\n",
    "                    LEFT JOIN reviews rv ON rv.book_id = b.book_id\n",
    "                    LEFT JOIN ratings rt ON rt.book_id = b.book_id\n",
    "                   WHERE b.publication_date:: date > '2000-01-01'\n",
    "                     AND b.num_pages>50\n",
    "                   GROUP BY rt.username\n",
    "                  HAVING COUNT(rt.username)>50\n",
    "                  ) AS t\n",
    "       '''\n",
    "#sql query execution\n",
    "df= pd.read_sql(query, engine)"
   ]
  },
  {
   "cell_type": "code",
   "execution_count": 19,
   "metadata": {},
   "outputs": [
    {
     "name": "stdout",
     "output_type": "stream",
     "text": [
      "The average number of text reviews:\n",
      "137\n"
     ]
    }
   ],
   "source": [
    "print('The average number of text reviews:')\n",
    "print('{:.0f}'.format(df['average_number'][0]))"
   ]
  },
  {
   "cell_type": "markdown",
   "metadata": {},
   "source": [
    "### Conclusion.<a class=\"anchor\" id=\"part2Conclusion\"></a>\n",
    "[Go back to the Contents](#contents)"
   ]
  },
  {
   "cell_type": "markdown",
   "metadata": {},
   "source": [
    "In this analysis, we saw that since January 1, 2000, 819 books and brochures have been rated and reviewed.<br>\n",
    "Readers write an average of 9 reviews and give on average fairly high ratings (4 on a five-point system).<br>\n",
    "It should be noted that the rating and the availability of reviews are weakly related.<br>\n",
    "The most frequently presented books are from The Penguin Publishing Group."
   ]
  },
  {
   "cell_type": "markdown",
   "metadata": {},
   "source": [
    "## General Conclusion. <a class=\"anchor\" id=\"General_Conclusion\"></a>\n",
    "[Go back to the Contents](#contents)"
   ]
  },
  {
   "cell_type": "markdown",
   "metadata": {},
   "source": [
    "Summing up, we can say that the main points for creating a new product of this type are the following:\n",
    "- increasing the rating scale of books for more accurate recommendations\n",
    "- incentive system for users writing reviews\n",
    "- building a link between book rating and user reviews\n",
    "- the introduction of additional elements of the classification of books (for example, the definition of brochures, magazines; definition of the genre)"
   ]
  }
 ],
 "metadata": {
  "kernelspec": {
   "display_name": "Python 3",
   "language": "python",
   "name": "python3"
  },
  "language_info": {
   "codemirror_mode": {
    "name": "ipython",
    "version": 3
   },
   "file_extension": ".py",
   "mimetype": "text/x-python",
   "name": "python",
   "nbconvert_exporter": "python",
   "pygments_lexer": "ipython3",
   "version": "3.7.9"
  }
 },
 "nbformat": 4,
 "nbformat_minor": 2
}
